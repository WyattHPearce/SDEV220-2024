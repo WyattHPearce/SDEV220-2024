{
 "cells": [
  {
   "cell_type": "code",
   "execution_count": null,
   "metadata": {},
   "outputs": [],
   "source": [
    "one_to_ten: list = [1,2,3,4,5,6,7,8,9,10]\n",
    "\n",
    "for i in one_to_ten:\n",
    "    print(i)\n",
    "\n",
    "dict_values: dict = {'a': 1, 'b': 2, 'c': 3}\n",
    "\n",
    "for k in dict_values.keys():\n",
    "    print(dict_values[k])"
   ]
  },
  {
   "cell_type": "code",
   "execution_count": 5,
   "metadata": {},
   "outputs": [
    {
     "name": "stdout",
     "output_type": "stream",
     "text": [
      "line 1: 'hello'\n"
     ]
    }
   ],
   "source": [
    "test_string: str = \"\"\"line 1: 'hello'\"\"\"\n",
    "print(test_string)"
   ]
  },
  {
   "cell_type": "code",
   "execution_count": 6,
   "metadata": {},
   "outputs": [
    {
     "data": {
      "text/plain": [
       "\"line 1: 'hello'\""
      ]
     },
     "execution_count": 6,
     "metadata": {},
     "output_type": "execute_result"
    }
   ],
   "source": [
    "\"\"\"line 1: 'hello'\"\"\""
   ]
  },
  {
   "cell_type": "code",
   "execution_count": 15,
   "metadata": {},
   "outputs": [
    {
     "name": "stdout",
     "output_type": "stream",
     "text": [
      "True\n",
      "False\n",
      "<class 'bool'>\n",
      "False\n"
     ]
    }
   ],
   "source": [
    "stringTen: str = '10'\n",
    "print(isinstance(int(stringTen), int))\n",
    "print(isinstance(str(10), int))\n",
    "print(type(bool(0)))\n",
    "print(bool(0))"
   ]
  },
  {
   "cell_type": "code",
   "execution_count": 21,
   "metadata": {},
   "outputs": [
    {
     "name": "stdout",
     "output_type": "stream",
     "text": [
      "a b c d \t e f g\n",
      "\"ten\"\n",
      "hello! \\n\n"
     ]
    }
   ],
   "source": [
    "# \\n is cool but you can also do \\t for tab\n",
    "print(\"a b c d \\t e f g\")\n",
    "\n",
    "# \\\" lets you print the quote like this\n",
    "print(\"\\\"ten\\\"\")\n",
    "\n",
    "# raw strings in order to print the backslash things\n",
    "rawString = r'hello! \\n'\n",
    "print(rawString)"
   ]
  },
  {
   "cell_type": "code",
   "execution_count": 36,
   "metadata": {},
   "outputs": [
    {
     "name": "stdout",
     "output_type": "stream",
     "text": [
      "bcd\n",
      "abcdefghijklmnopqrstuvwxyz\n"
     ]
    }
   ],
   "source": [
    "normalString: str = \"abcde fghijklmnopqr stuvwxyz\"\n",
    "print(normalString[1:4])\n",
    "print(normalString[:])"
   ]
  },
  {
   "cell_type": "code",
   "execution_count": 43,
   "metadata": {},
   "outputs": [
    {
     "name": "stdout",
     "output_type": "stream",
     "text": [
      "['abcdefghijklmnopqrstuvwxyz']\n"
     ]
    }
   ],
   "source": [
    "print(normalString.split(' '))"
   ]
  },
  {
   "cell_type": "code",
   "execution_count": 47,
   "metadata": {},
   "outputs": [
    {
     "name": "stdout",
     "output_type": "stream",
     "text": [
      "word        e\n",
      "word        e\n"
     ]
    }
   ],
   "source": [
    "word = \"           word        \"\n",
    "print(word.strip())\n",
    "print(word.lstrip())"
   ]
  },
  {
   "cell_type": "code",
   "execution_count": 7,
   "metadata": {},
   "outputs": [
    {
     "name": "stdout",
     "output_type": "stream",
     "text": [
      "[0, 1, 2, 3, 4]\n"
     ]
    }
   ],
   "source": [
    "# Strings Syntax rang(from starting value, to this value but excluding it, amount iterated between)\n",
    "# if one number is givin like range(10) its the same as 0 to that number like this: range(0,10)\n",
    "# if no third number is given, it is assumed to be 1 like this: givin - range(0,10) same as - range(0,10,1)\n",
    "number: list = list(range(0,5,1))\n",
    "print(number)"
   ]
  }
 ],
 "metadata": {
  "kernelspec": {
   "display_name": "Python 3",
   "language": "python",
   "name": "python3"
  },
  "language_info": {
   "codemirror_mode": {
    "name": "ipython",
    "version": 3
   },
   "file_extension": ".py",
   "mimetype": "text/x-python",
   "name": "python",
   "nbconvert_exporter": "python",
   "pygments_lexer": "ipython3",
   "version": "3.11.4"
  }
 },
 "nbformat": 4,
 "nbformat_minor": 2
}
