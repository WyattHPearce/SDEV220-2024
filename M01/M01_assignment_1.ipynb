{
 "cells": [
  {
   "cell_type": "markdown",
   "metadata": {},
   "source": [
    "# M01 Programming Assignment - Numbers and Types\n",
    "Author: Wyatt H. Pearce \\\n",
    "Date: 1/24/2024"
   ]
  },
  {
   "cell_type": "markdown",
   "metadata": {},
   "source": [
    "Section 3.1: \\\n",
    "**Question:** How many seconds are in an hour? \\\n",
    "**Answer**: There are 3,600 minutes in an hour (```MINUTES_PER_HOUR``` * ```SECONDS_PER_MINUTES```)"
   ]
  },
  {
   "cell_type": "code",
   "execution_count": 5,
   "metadata": {},
   "outputs": [
    {
     "name": "stdout",
     "output_type": "stream",
     "text": [
      "There are 3600 seconds in one hour.\n"
     ]
    }
   ],
   "source": [
    "\"\"\"\n",
    "    Author:  Wyatt H. Pearce\n",
    "    Date: 1/24/2024\n",
    "    Section: 3.1\n",
    "    Description:\n",
    "    This program calculates the number of seconds in an hour (60 minutes per-hour * 60 seconds per-minute).\n",
    "\"\"\"\n",
    "\n",
    "SECONDS_PER_MINUTE: int = 60\n",
    "MINUTES_PER_HOUR: int = 60\n",
    "\n",
    "print(f\"There are {MINUTES_PER_HOUR * SECONDS_PER_MINUTE} seconds in one hour.\")"
   ]
  },
  {
   "cell_type": "markdown",
   "metadata": {},
   "source": [
    "Section 3.2: \\\n",
    "**Instructions:** Assign the result from the previous task (seconds in an hour) to a variable called ```seconds_per_hour```"
   ]
  },
  {
   "cell_type": "code",
   "execution_count": 4,
   "metadata": {},
   "outputs": [
    {
     "name": "stdout",
     "output_type": "stream",
     "text": [
      "3600\n"
     ]
    }
   ],
   "source": [
    "\"\"\"\n",
    "    Author:  Wyatt H. Pearce\n",
    "    Date: 1/24/2024\n",
    "    Section: 3.2\n",
    "    Description:\n",
    "    This program assigns a variable \"seconds_per_hour\".\n",
    "\"\"\"\n",
    "\n",
    "seconds_per_hour: int = MINUTES_PER_HOUR * SECONDS_PER_MINUTE\n",
    "print(seconds_per_hour)"
   ]
  },
  {
   "cell_type": "markdown",
   "metadata": {},
   "source": [
    "Section 3.3: \\\n",
    "**Question:** How many seconds are in a day? (Using the ```seconds_per_hour``` variable) \\\n",
    "**Answer:** There are 86,400 seconds in one day (```seconds_per_hour``` * ```hours_per_day```)"
   ]
  },
  {
   "cell_type": "code",
   "execution_count": 7,
   "metadata": {},
   "outputs": [
    {
     "name": "stdout",
     "output_type": "stream",
     "text": [
      "There are 86400 seconds in one day.\n"
     ]
    }
   ],
   "source": [
    "\"\"\"\n",
    "    Author:  Wyatt H. Pearce\n",
    "    Date: 1/24/2024\n",
    "    Section: 3.3\n",
    "    Description:\n",
    "    This program calculates the number of seconds in a day (seconds_per_hour * hours_per_day).\n",
    "\"\"\"\n",
    "\n",
    "HOURS_PER_DAY: int = 24\n",
    "\n",
    "print(f\"There are {seconds_per_hour * HOURS_PER_DAY} seconds in one day.\")"
   ]
  },
  {
   "cell_type": "markdown",
   "metadata": {},
   "source": [
    "Section 3.4: \\\n",
    "**Instructions:** Calculate seconds per day again, but this time save the result in a variable called ```seconds_per_day.```"
   ]
  },
  {
   "cell_type": "code",
   "execution_count": 8,
   "metadata": {},
   "outputs": [
    {
     "name": "stdout",
     "output_type": "stream",
     "text": [
      "86400\n"
     ]
    }
   ],
   "source": [
    "\"\"\"\n",
    "    Author:  Wyatt H. Pearce\n",
    "    Date: 1/24/2024\n",
    "    Section: 3.4\n",
    "    Description:\n",
    "    This program assigns a variable \"seconds_per_day\".\n",
    "\"\"\"\n",
    "\n",
    "seconds_per_day: int = seconds_per_hour * HOURS_PER_DAY\n",
    "print(seconds_per_day)"
   ]
  },
  {
   "cell_type": "markdown",
   "metadata": {},
   "source": [
    "Section 3.5: \\\n",
    "**Instructions:** Divide ```seconds_per_day``` by ```seconds_per_hour```. Use floating-point (/) division."
   ]
  },
  {
   "cell_type": "code",
   "execution_count": 10,
   "metadata": {},
   "outputs": [
    {
     "name": "stdout",
     "output_type": "stream",
     "text": [
      "There are 24.0 hours in one day\n"
     ]
    }
   ],
   "source": [
    "\"\"\"\n",
    "    Author:  Wyatt H. Pearce\n",
    "    Date: 1/24/2024\n",
    "    Section: 3.5\n",
    "    Description:\n",
    "    This program calculates the hours in one day by dividing seconds_per_day by seconds_per_hour using floating-point (/) division.\n",
    "\"\"\"\n",
    "\n",
    "print(f\"There are {seconds_per_day / seconds_per_hour} hours in one day\")"
   ]
  },
  {
   "cell_type": "markdown",
   "metadata": {},
   "source": [
    "Section 3.6: \\\n",
    "**Instructions:** Divide ```seconds_per_day``` by ```seconds_per_hour```, using integer (//) division. \\\n",
    "**Question:** Does this number agree with the floating-point value from the previous section? \\\n",
    "**Answer:** Yes, the result was still 24 hours."
   ]
  },
  {
   "cell_type": "code",
   "execution_count": 12,
   "metadata": {},
   "outputs": [
    {
     "name": "stdout",
     "output_type": "stream",
     "text": [
      "There are 24 hours in one day\n"
     ]
    }
   ],
   "source": [
    "\"\"\"\n",
    "    Author:  Wyatt H. Pearce\n",
    "    Date: 1/24/2024\n",
    "    Section: 3.6\n",
    "    Description:\n",
    "    This program calculates the hours in one day by dividing seconds_per_day by seconds_per_hour using integer (//) division.\n",
    "\"\"\"\n",
    "\n",
    "print(f\"There are {seconds_per_day // seconds_per_hour} hours in one day\")"
   ]
  }
 ],
 "metadata": {
  "kernelspec": {
   "display_name": "Python 3",
   "language": "python",
   "name": "python3"
  },
  "language_info": {
   "codemirror_mode": {
    "name": "ipython",
    "version": 3
   },
   "file_extension": ".py",
   "mimetype": "text/x-python",
   "name": "python",
   "nbconvert_exporter": "python",
   "pygments_lexer": "ipython3",
   "version": "3.11.4"
  }
 },
 "nbformat": 4,
 "nbformat_minor": 2
}
