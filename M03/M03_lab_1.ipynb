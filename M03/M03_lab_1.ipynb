{
 "cells": [
  {
   "cell_type": "markdown",
   "metadata": {},
   "source": [
    "# M03 Lab - Case Study: Lists, Functions, and Classes\n",
    "Author: Wyatt H. Pearce \\\n",
    "Date Started: 1/31/2024"
   ]
  },
  {
   "cell_type": "markdown",
   "metadata": {},
   "source": [
    "**Instructions:**\n",
    "- Write a Python app that has the following classes:\n",
    "  - A super class called Vehicle, which contains an attribute for vehicle type, such as car, truck, plane, boat, or a broomstick.\n",
    "  - A class called Automobile which will inherit the attributes from Vehicle and also contain the following attributes:\n",
    "    - year\n",
    "    - make\n",
    "    - model\n",
    "    - doors (2 or 4)\n",
    "    - roof (solid or sun roof).\n",
    "- Write an app that will accept user input for a car. The app will store \"car\" into the vehicle type in your Vehicle super class. \n",
    "- The app will then ask the user for the year, make, model, doors, and type of roof and store that data in the attributes above.\n",
    "- The app will then output the data in an easy-to-read and understandable format, such as this:\n",
    "  - Vehicle type: car\n",
    "  - Year: 2022\n",
    "  - Make: Toyota\n",
    "  - Model: Corolla\n",
    "  - Number of doors: 4\n",
    "  - Type of roof: sun roof"
   ]
  },
  {
   "cell_type": "code",
   "execution_count": 6,
   "metadata": {},
   "outputs": [
    {
     "name": "stdout",
     "output_type": "stream",
     "text": [
      "\n",
      " - Vehicle type: Car\n",
      " - Year: 2013\n",
      " - Make: Mini\n",
      " - Model: Mini-Cooper\n",
      " - Number of doors: 4\n",
      " - Type of roof: sun roof\n",
      "        \n"
     ]
    }
   ],
   "source": [
    "\"\"\"\n",
    "    Author: Wyatt H. Pearce\n",
    "    Date: 1/31/2024\n",
    "    File: M03_lab_1.ipynb\n",
    "    Description:\n",
    "    This program uses information from the user about an automobile and creates an instance of class Automobile (inherited from Vehicle).\n",
    "    The user input is used to initialize attributes of the automobile instance. The instanced object is then displayed using its __str__ magic method.\n",
    "\"\"\"\n",
    "\n",
    "# Super/Parent class\n",
    "class Vehicle():\n",
    "    def __init__(self, vehicle_type: str):\n",
    "        self.vehicle_type: str = vehicle_type\n",
    "\n",
    "# Child class\n",
    "class Automobile(Vehicle):\n",
    "    def __init__(self, vehicle_type: str, year: int, make: str, model: str, doors: int, roof_type: str):\n",
    "        super().__init__(vehicle_type)\n",
    "        self.year = year\n",
    "        self.make = make\n",
    "        self.model = model\n",
    "        self.doors  = doors\n",
    "        self.roof_type  = roof_type\n",
    "\n",
    "    # Human readable representation of class\n",
    "    def __str__(self):\n",
    "        return f\"\"\"\n",
    " - Vehicle type: {self.vehicle_type}\n",
    " - Year: {self.year}\n",
    " - Make: {self.make}\n",
    " - Model: {self.model}\n",
    " - Number of doors: {self.doors}\n",
    " - Type of roof: {self.roof_type}\n",
    "        \"\"\"\n",
    "\n",
    "# Creating a new instance of Automobile\n",
    "car: Automobile = Automobile(\n",
    "    input(\"Enter the vehicle's type (car, truck, etc.): \"), \n",
    "    input(\"Enter the vehicle's year: \"),\n",
    "    input(\"Enter the vehicle's make: \"),\n",
    "    input(\"Enter the vehicle's model: \"),\n",
    "    input(\"Enter the vehicle's number of doors (2 or 4): \"),\n",
    "    input(\"Enter the vehicle's roof type (solid or sun roof): \")\n",
    ")\n",
    "\n",
    "# Displaying the string representing Automobile instanced object\n",
    "print(str(car))\n"
   ]
  }
 ],
 "metadata": {
  "kernelspec": {
   "display_name": "Python 3",
   "language": "python",
   "name": "python3"
  },
  "language_info": {
   "codemirror_mode": {
    "name": "ipython",
    "version": 3
   },
   "file_extension": ".py",
   "mimetype": "text/x-python",
   "name": "python",
   "nbconvert_exporter": "python",
   "pygments_lexer": "ipython3",
   "version": "3.11.4"
  }
 },
 "nbformat": 4,
 "nbformat_minor": 2
}
