{
 "cells": [
  {
   "cell_type": "markdown",
   "metadata": {},
   "source": [
    "# Dictionaries and sets"
   ]
  },
  {
   "cell_type": "code",
   "execution_count": null,
   "metadata": {},
   "outputs": [],
   "source": [
    "# dictionary\n",
    "games: dict = {\n",
    "    'Minecraft': 'Mojang',\n",
    "    'terraria': 're-logic'\n",
    "}\n",
    "\n",
    "cartoons: dict = dict(\n",
    "    flash='dc',\n",
    "    spiderman='marvel'\n",
    ")"
   ]
  },
  {
   "cell_type": "code",
   "execution_count": 2,
   "metadata": {},
   "outputs": [
    {
     "name": "stdout",
     "output_type": "stream",
     "text": [
      "{'a': 'b', 'd': 'c'}\n"
     ]
    }
   ],
   "source": [
    "# Converting to dictionary\n",
    "lol = [ ['a','b'], ['a','b'], ['d','c']]\n",
    "print(dict(lol))\n",
    "# same thing is possible with tuple"
   ]
  },
  {
   "cell_type": "code",
   "execution_count": 7,
   "metadata": {},
   "outputs": [
    {
     "name": "stdout",
     "output_type": "stream",
     "text": [
      "True\n",
      "19\n",
      "19\n",
      "dict_keys(['john', 'wyatt'])\n"
     ]
    }
   ],
   "source": [
    "# Changing based on key (access)\n",
    "ages: dict = {\n",
    "    'john':'15',\n",
    "    'wyatt':'19'\n",
    "}\n",
    "# Check if wyatt exists\n",
    "print('wyatt' in ages)\n",
    "# or\n",
    "print(ages.get('wyatt')) # returns 'non' if not existing\n",
    "print(ages['wyatt'])"
   ]
  },
  {
   "cell_type": "code",
   "execution_count": 9,
   "metadata": {},
   "outputs": [
    {
     "name": "stdout",
     "output_type": "stream",
     "text": [
      "dict_keys(['john', 'wyatt'])\n",
      "dict_values(['15', '19'])\n",
      "dict_items([('john', '15'), ('wyatt', '19')])\n",
      "2\n"
     ]
    }
   ],
   "source": [
    "# keys and values and len\n",
    "print(ages.keys())\n",
    "print(ages.values())\n",
    "print(ages.items())\n",
    "print(len(ages))"
   ]
  },
  {
   "cell_type": "code",
   "execution_count": 17,
   "metadata": {},
   "outputs": [
    {
     "name": "stdout",
     "output_type": "stream",
     "text": [
      "{'wyatt': '1', 'john': '2', 'tim': '3'}\n",
      "{'john': '2', 'tim': '3'}\n",
      "{'tim': '3'}\n"
     ]
    }
   ],
   "source": [
    "# deleting item by key with del and pop\n",
    "names = {\n",
    "    'wyatt':'1',\n",
    "    'john':'2',\n",
    "    'tim':'3'\n",
    "}\n",
    "print(names)\n",
    "del names['wyatt']\n",
    "print(names)\n",
    "names.pop('john')\n",
    "print(names)"
   ]
  },
  {
   "cell_type": "code",
   "execution_count": 18,
   "metadata": {},
   "outputs": [
    {
     "name": "stdout",
     "output_type": "stream",
     "text": [
      "{}\n"
     ]
    }
   ],
   "source": [
    "# delete all items with clear\n",
    "names.clear()\n",
    "print(names)"
   ]
  },
  {
   "cell_type": "code",
   "execution_count": 20,
   "metadata": {},
   "outputs": [
    {
     "name": "stdout",
     "output_type": "stream",
     "text": [
      "True\n"
     ]
    }
   ],
   "source": [
    "# testing for exists with 'in'\n",
    "names = {\n",
    "    'wyatt':'1',\n",
    "    'john':'2',\n",
    "    'tim':'3'\n",
    "}\n",
    "print('wyatt' in names)"
   ]
  },
  {
   "cell_type": "code",
   "execution_count": 22,
   "metadata": {},
   "outputs": [
    {
     "name": "stdout",
     "output_type": "stream",
     "text": [
      "True\n"
     ]
    }
   ],
   "source": [
    "# comparing dictionaries\n",
    "# only comparison that works is ==\n",
    "a = {'a':'b','c':'d'}\n",
    "b = {'c':'d','a':'b'} # have to be same pairs, not order\n",
    "print(a == b)"
   ]
  },
  {
   "cell_type": "code",
   "execution_count": 25,
   "metadata": {},
   "outputs": [
    {
     "name": "stdout",
     "output_type": "stream",
     "text": [
      "me\n",
      "19\n",
      "tim\n",
      "21\n",
      "breaden\n",
      "19\n"
     ]
    }
   ],
   "source": [
    "# for loop and dictionary\n",
    "people: dict = {\n",
    "    'me':'19',\n",
    "    'tim':'21',\n",
    "    'breaden':'19'\n",
    "}\n",
    "\n",
    "for names, ages in people.items():\n",
    "    print(names)\n",
    "    print(ages)"
   ]
  },
  {
   "cell_type": "code",
   "execution_count": 28,
   "metadata": {},
   "outputs": [
    {
     "name": "stdout",
     "output_type": "stream",
     "text": [
      "{1, 2, 3}\n"
     ]
    }
   ],
   "source": [
    "a = {1,2}\n",
    "b = {2, 3}\n",
    "print(a | b) # union a set"
   ]
  },
  {
   "cell_type": "code",
   "execution_count": null,
   "metadata": {},
   "outputs": [],
   "source": []
  }
 ],
 "metadata": {
  "kernelspec": {
   "display_name": "Python 3",
   "language": "python",
   "name": "python3"
  },
  "language_info": {
   "codemirror_mode": {
    "name": "ipython",
    "version": 3
   },
   "file_extension": ".py",
   "mimetype": "text/x-python",
   "name": "python",
   "nbconvert_exporter": "python",
   "pygments_lexer": "ipython3",
   "version": "3.11.4"
  }
 },
 "nbformat": 4,
 "nbformat_minor": 2
}
