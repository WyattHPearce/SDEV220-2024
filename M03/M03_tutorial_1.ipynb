{
 "cells": [
  {
   "cell_type": "markdown",
   "metadata": {},
   "source": [
    "# M03 Tutorial - Functional vs OOP Programming\n",
    "Author: Wyatt H. Pearce \\\n",
    "Date Started: 2/1/2024"
   ]
  },
  {
   "cell_type": "markdown",
   "metadata": {},
   "source": [
    "**Complete the programming exercise - Sort an Array of 0s, 1s, and 2s:** \\\n",
    "Below is my solution to the exercise given. It ran correctly in the browser at this [link](https://www.geeksforgeeks.org/problems/sort-an-array-of-0s-1s-and-2s4231/1?utm_source=geeksforgeeks&utm_medium=article_practice_tab&utm_campaign=article_practice_tab)."
   ]
  },
  {
   "cell_type": "code",
   "execution_count": 14,
   "metadata": {},
   "outputs": [],
   "source": [
    "# First exercise\n",
    "class Solution:\n",
    "    def sort012(self,arr,n):\n",
    "        # code here\n",
    "        sorted_array = sorted(arr) # Temporary sorted array\n",
    "        for number in range(len(arr)): # Loop through arr indices\n",
    "            arr[number] = sorted_array[number] # Push all sorted values into arr, in one pass"
   ]
  },
  {
   "cell_type": "markdown",
   "metadata": {},
   "source": [
    "**Complete the programming exercise - Binary Search** \\\n",
    "Below is my solution to the exercise given. It ran correctly in the browser at this [link](https://www.geeksforgeeks.org/problems/binary-search-1587115620/1?utm_source=geeksforgeeks&utm_medium=article_practice_tab&utm_campaign=article_practice_tab)."
   ]
  },
  {
   "cell_type": "code",
   "execution_count": 15,
   "metadata": {},
   "outputs": [],
   "source": [
    "class Solution:\t\n",
    "    def binarysearch(self, arr, n, k):\n",
    "        # code here\n",
    "        low = 0\n",
    "        high = n - 1\n",
    "    \n",
    "        # Im not doing recursive function call like the example showed, just using a while loop\n",
    "        while low <= high:\n",
    "            mid = (low + high) // 2\n",
    "    \n",
    "            if arr[mid] == k:\n",
    "                return mid  # found k\n",
    "            elif arr[mid] < k:\n",
    "                low = mid + 1  # not in the left half\n",
    "            else:\n",
    "                high = mid - 1  # not on the right side\n",
    "    \n",
    "        return -1  # couldn't find"
   ]
  }
 ],
 "metadata": {
  "kernelspec": {
   "display_name": "Python 3",
   "language": "python",
   "name": "python3"
  },
  "language_info": {
   "codemirror_mode": {
    "name": "ipython",
    "version": 3
   },
   "file_extension": ".py",
   "mimetype": "text/x-python",
   "name": "python",
   "nbconvert_exporter": "python",
   "pygments_lexer": "ipython3",
   "version": "3.11.4"
  }
 },
 "nbformat": 4,
 "nbformat_minor": 2
}
