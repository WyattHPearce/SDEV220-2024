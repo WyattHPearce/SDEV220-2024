{
 "cells": [
  {
   "cell_type": "markdown",
   "metadata": {},
   "source": [
    "# M03 Programming Assignment - Lists and Functions\n",
    "Author: Wyatt H. Pearce \\\n",
    "Date Started: 2/1/2024"
   ]
  },
  {
   "cell_type": "markdown",
   "metadata": {},
   "source": [
    "Section 7.4: \\\n",
    "**Instructions:** Make a list called ```things``` with these three strings as elements: ```\"mozzarella\", \"cinderella\", \"salmonella\"```."
   ]
  },
  {
   "cell_type": "code",
   "execution_count": 25,
   "metadata": {},
   "outputs": [
    {
     "name": "stdout",
     "output_type": "stream",
     "text": [
      "['mozzarella', 'cinderella', 'salmonella']\n"
     ]
    }
   ],
   "source": [
    "\"\"\"\n",
    "    Author:  Wyatt H. Pearce\n",
    "    Date: 2/1/2024\n",
    "    Section: 7.4\n",
    "    Description:\n",
    "    This program contains a list of strings\n",
    "\"\"\"\n",
    "\n",
    "things: list = ['mozzarella','cinderella','salmonella']\n",
    "print(things)"
   ]
  },
  {
   "cell_type": "markdown",
   "metadata": {},
   "source": [
    "Section 7.5: \\\n",
    "**Instructions:** Capitalize the element in ```things``` that refers to a person and then print the list. \\\n",
    "**Question:** Did capitalizing ```things[1]``` change the element in the list when printing? \\\n",
    "**Answer:** Yes. This is because lists are mutable, unlike strings or other data types."
   ]
  },
  {
   "cell_type": "code",
   "execution_count": 26,
   "metadata": {},
   "outputs": [
    {
     "name": "stdout",
     "output_type": "stream",
     "text": [
      "['mozzarella', 'Cinderella', 'salmonella']\n"
     ]
    }
   ],
   "source": [
    "\"\"\"\n",
    "    Author:  Wyatt H. Pearce\n",
    "    Date: 2/1/2024\n",
    "    Section: 7.5\n",
    "    Description:\n",
    "    This program capitalizes a single element within a list, then outputs the content of the list\n",
    "\"\"\"\n",
    "\n",
    "things[1] = things[1].capitalize()\n",
    "print(things)"
   ]
  },
  {
   "cell_type": "markdown",
   "metadata": {},
   "source": [
    "Section 7.6: \\\n",
    "**Instructions:** Make the cheesy element of ```things``` all uppercase and then print the list."
   ]
  },
  {
   "cell_type": "code",
   "execution_count": 27,
   "metadata": {},
   "outputs": [
    {
     "name": "stdout",
     "output_type": "stream",
     "text": [
      "['MOZZARELLA', 'Cinderella', 'salmonella']\n"
     ]
    }
   ],
   "source": [
    "\"\"\"\n",
    "    Author:  Wyatt H. Pearce\n",
    "    Date: 2/1/2024\n",
    "    Section: 7.6\n",
    "    Description:\n",
    "    This program makes a single element within a list of strings uppercase, then outputs the content of the list\n",
    "\"\"\"\n",
    "\n",
    "things[0] = things[0].upper()\n",
    "print(things)"
   ]
  },
  {
   "cell_type": "markdown",
   "metadata": {},
   "source": [
    "Section 7.7: \\\n",
    "**Instructions:** Delete the disease element from ```things```, collect your Nobel Prize, and print the list."
   ]
  },
  {
   "cell_type": "code",
   "execution_count": 28,
   "metadata": {},
   "outputs": [
    {
     "name": "stdout",
     "output_type": "stream",
     "text": [
      "['MOZZARELLA', 'Cinderella']\n"
     ]
    }
   ],
   "source": [
    "\"\"\"\n",
    "    Author:  Wyatt H. Pearce\n",
    "    Date: 2/1/2024\n",
    "    Section: 7.7\n",
    "    Description:\n",
    "    This program deletes an element from a list, then outputs the remaining content of the list.\n",
    "\"\"\"\n",
    "\n",
    "del things[2]\n",
    "print(things)"
   ]
  },
  {
   "cell_type": "markdown",
   "metadata": {},
   "source": [
    "Section 9.1: \\\n",
    "**Instructions:** Define a function called ```good()``` that returns the following list: ```['Harry', 'Ron', 'Hermione']```."
   ]
  },
  {
   "cell_type": "code",
   "execution_count": null,
   "metadata": {},
   "outputs": [],
   "source": [
    "\"\"\"\n",
    "    Author:  Wyatt H. Pearce\n",
    "    Date: 2/1/2024\n",
    "    Section: 9.1\n",
    "    Description:\n",
    "    This program defines a function that returns a list\n",
    "\"\"\"\n",
    "\n",
    "def good() -> list:\n",
    "    return ['Harry','Ron','Hermione']"
   ]
  },
  {
   "cell_type": "markdown",
   "metadata": {},
   "source": [
    "Section 9.2: \\\n",
    "**Instructions:** Define a generator function called ```get_odds()``` that returns the odd numbers from ```range(10)```. Use a for loop to find and print the third value returned."
   ]
  },
  {
   "cell_type": "code",
   "execution_count": 48,
   "metadata": {},
   "outputs": [
    {
     "name": "stdout",
     "output_type": "stream",
     "text": [
      "3\n"
     ]
    }
   ],
   "source": [
    "\"\"\"\n",
    "    Author:  Wyatt H. Pearce\n",
    "    Date: 2/1/2024\n",
    "    Section: 9.2\n",
    "    Description:\n",
    "    This program defines a generator that returns all odd numbers in a range.\n",
    "    The third value yielded by the generator is displayed in output.\n",
    "\"\"\"\n",
    "\n",
    "# Generator function that returns all odd numbers in a range\n",
    "def get_odds(start: int, end: int) -> int:\n",
    "    for number in range(start, end):\n",
    "        if (number % 2) != 0:\n",
    "            yield number\n",
    "\n",
    "# Finding and printing the third value returned by generator function\n",
    "number_of_loops = 1\n",
    "for number in get_odds(1, 10):\n",
    "    number_of_loops += 1\n",
    "    if number_of_loops == 3:\n",
    "        print(number)"
   ]
  }
 ],
 "metadata": {
  "kernelspec": {
   "display_name": "Python 3",
   "language": "python",
   "name": "python3"
  },
  "language_info": {
   "codemirror_mode": {
    "name": "ipython",
    "version": 3
   },
   "file_extension": ".py",
   "mimetype": "text/x-python",
   "name": "python",
   "nbconvert_exporter": "python",
   "pygments_lexer": "ipython3",
   "version": "3.11.4"
  }
 },
 "nbformat": 4,
 "nbformat_minor": 2
}
