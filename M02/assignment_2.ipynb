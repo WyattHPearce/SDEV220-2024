{
 "cells": [
  {
   "cell_type": "markdown",
   "metadata": {},
   "source": [
    "# M02 Programming Assignment - Loops and Conditionals\n",
    "Author: Wyatt H. Pearce \\\n",
    "Date Started: 1/25/2024"
   ]
  },
  {
   "cell_type": "markdown",
   "metadata": {},
   "source": [
    "Section 4.1: \\\n",
    "**Instructions:**\n",
    "Choose a number between 1 and 10 and assign it to the variable ```secret```. Then, select another number between 1 and 10 and assign it to the variable ```guess```. Next, write the conditional tests (if, else, and elif) to print the string 'too low' if ```guess``` is less than ```secret```, 'too high' if greater than ```secret```, and 'just right' if equal to ```secret```."
   ]
  },
  {
   "cell_type": "code",
   "execution_count": 18,
   "metadata": {},
   "outputs": [
    {
     "name": "stdout",
     "output_type": "stream",
     "text": [
      "To high...\n",
      "Secret: 1\n",
      "Guess: 5\n"
     ]
    }
   ],
   "source": [
    "\"\"\"\n",
    "    Author:  Wyatt H. Pearce\n",
    "    Date: 1/25/2024\n",
    "    Section: 4.1\n",
    "    Description:\n",
    "    This program generates a \"secret\" variable and a \"guess\" variable, both between 1 and 10. \n",
    "    It then determines if the value of \"guess\" is to low, to high, or equal to (just right) the \"secret\" value.\n",
    "\"\"\"\n",
    "\n",
    "# import random is used to get different results each time the program runs\n",
    "import random\n",
    "\n",
    "# Program automatically selects numbers rather than getting user input\n",
    "secret: int = random.randint(1, 10)\n",
    "guess: int = random.randint(1,10)\n",
    "\n",
    "# Logic\n",
    "if guess < secret:\n",
    "    print(\"Too low...\")\n",
    "elif guess > secret:\n",
    "    print(\"To high...\")\n",
    "else:\n",
    "    print(\"Just right!\")\n",
    "\n",
    "# Debug info\n",
    "print(f\"Secret: {secret}\\nGuess: {guess}\")"
   ]
  },
  {
   "cell_type": "markdown",
   "metadata": {},
   "source": [
    "Section 4.2: \\\n",
    "**Instructions:**\n",
    "Assign True or False to the variables ```small``` and ```green```. Write some if/else statements to print which of these matches those choices: cherry, pea, watermelon, pumpkin."
   ]
  },
  {
   "cell_type": "code",
   "execution_count": 9,
   "metadata": {},
   "outputs": [
    {
     "name": "stdout",
     "output_type": "stream",
     "text": [
      "Watermelon!\n"
     ]
    }
   ],
   "source": [
    "\"\"\"\n",
    "    Author:  Wyatt H. Pearce\n",
    "    Date: 1/25/2024\n",
    "    Section: 4.2\n",
    "    Description:\n",
    "    This program displays the fruits and vegetables that match the characteristics provided/described by the variables \"small\" and \"green\"\n",
    "\"\"\"\n",
    "\n",
    "small: bool = False\n",
    "green: bool = True\n",
    "\n",
    "# Logic (I decided using \"not\" was more readable than \"!=\")\n",
    "if small and green:\n",
    "    print(\"Pea!\")\n",
    "elif small and not green:\n",
    "    print(\"Cherry!\")\n",
    "elif not small and green:\n",
    "    print(\"Watermelon!\") # Some people might say watermelons are red however, when uncut, they are green.\n",
    "elif not small and not green:\n",
    "    print(\"Pumpkin!\")\n",
    "else:\n",
    "    print(\"I think something went very wrong...\")"
   ]
  },
  {
   "cell_type": "markdown",
   "metadata": {},
   "source": [
    "Section 6.1: \\\n",
    "**Instructions:**\n",
    "Use a for loop to print the values of the list [3, 2, 1, 0]."
   ]
  },
  {
   "cell_type": "code",
   "execution_count": 8,
   "metadata": {},
   "outputs": [
    {
     "name": "stdout",
     "output_type": "stream",
     "text": [
      "3\n",
      "2\n",
      "1\n",
      "0\n"
     ]
    }
   ],
   "source": [
    "\"\"\"\n",
    "    Author:  Wyatt H. Pearce\n",
    "    Date: 1/26/2024\n",
    "    Section: 6.1\n",
    "    Description:\n",
    "    This program uses a for-loop to loop through a list and print it's values to the output.\n",
    "\"\"\"\n",
    "\n",
    "numbers: list = list(range(3,-1, -1))\n",
    "\n",
    "# I used a for-each loop, rather than iterative loop. Better readability\n",
    "for number in numbers:\n",
    "    print(number)"
   ]
  },
  {
   "cell_type": "markdown",
   "metadata": {},
   "source": [
    "Section 6.2: \\\n",
    "**Instructions:**\n",
    "Assign the value 7 to the variable ```guess_me```, and the value 1 to the variable ```number```. Write a while loop that compares ```number``` with ```guess_me```. Print 'too low' if number is less than ```guess_me```. If number equals ```guess_me```, print 'found it!' and then exit the loop. If number is greater than ```guess_me```, print 'oops' and then exit the loop. Increment number at the end of the loop."
   ]
  },
  {
   "cell_type": "code",
   "execution_count": 9,
   "metadata": {},
   "outputs": [
    {
     "name": "stdout",
     "output_type": "stream",
     "text": [
      "1: too low\n",
      "2: too low\n",
      "3: too low\n",
      "4: too low\n",
      "5: too low\n",
      "6: too low\n",
      "7: found it!\n"
     ]
    }
   ],
   "source": [
    "\"\"\"\n",
    "    Author:  Wyatt H. Pearce\n",
    "    Date: 1/26/2024\n",
    "    Section: 6.2\n",
    "    Description:\n",
    "    This program uses a while loop to add 1 to the variable \"number\" until it is equal to the value of \"guess_me\".\n",
    "    The progress of number towards guess_me is printed to the output each iteration of the while loop.\n",
    "\"\"\"\n",
    "\n",
    "# Variables\n",
    "guess_me: int = 7\n",
    "number: int = 1\n",
    "\n",
    "# I prefer \"break\" over bool-flags, so I used while True\n",
    "while True:\n",
    "    # I added this extra to show number of iterations\n",
    "    print(number, end=\": \")\n",
    "\n",
    "    # Logic\n",
    "    if number < guess_me:\n",
    "        print(\"too low\")\n",
    "    elif number == guess_me:\n",
    "        print(\"found it!\")\n",
    "        break\n",
    "    elif number > guess_me:\n",
    "        print(\"oops\")\n",
    "        break\n",
    "\n",
    "    # Iterate at end of loop\n",
    "    number += 1"
   ]
  },
  {
   "cell_type": "markdown",
   "metadata": {},
   "source": [
    "Section 6.3: \\\n",
    "**Instructions:**\n",
    "Assign the value 5 to the variable ```guess_me```. Use a for loop to iterate a variable called ```number``` over range(10). If ```number``` is less than ```guess_me```, print 'too low'. If it equals ```guess_me```, print found it! and then break out of the for loop. If ```number``` is greater than ```guess_me```, print 'oops' and then exit the loop."
   ]
  },
  {
   "cell_type": "code",
   "execution_count": 17,
   "metadata": {},
   "outputs": [
    {
     "name": "stdout",
     "output_type": "stream",
     "text": [
      "number = 0: too low\n",
      "number = 1: too low\n",
      "number = 2: too low\n",
      "number = 3: too low\n",
      "number = 4: too low\n",
      "number = 5: found it!\n"
     ]
    }
   ],
   "source": [
    "\"\"\"\n",
    "    Author:  Wyatt H. Pearce\n",
    "    Date: 1/26/2024\n",
    "    Section: 6.3\n",
    "    Description:\n",
    "    This program uses a for-loop to iterate a variable called number over the numbers 0 through 9.\n",
    "    When number is equal to \"guess_me\" the loop ends. Each iteration of the loop is logged in the output.\n",
    "\"\"\"\n",
    "\n",
    "# Variables\n",
    "guess_me: int = 5\n",
    "\n",
    "for number in range(10):\n",
    "    # I added this extra to show number for debugging\n",
    "    print(f\"number = {number}\", end=\": \")\n",
    "\n",
    "    # Logic\n",
    "    if number < guess_me:\n",
    "        print(\"too low\")\n",
    "    elif number == guess_me:\n",
    "        print(\"found it!\")\n",
    "        break\n",
    "    elif number > guess_me:\n",
    "        print(\"oops\")\n",
    "        break"
   ]
  }
 ],
 "metadata": {
  "kernelspec": {
   "display_name": "Python 3",
   "language": "python",
   "name": "python3"
  },
  "language_info": {
   "codemirror_mode": {
    "name": "ipython",
    "version": 3
   },
   "file_extension": ".py",
   "mimetype": "text/x-python",
   "name": "python",
   "nbconvert_exporter": "python",
   "pygments_lexer": "ipython3",
   "version": "3.11.4"
  }
 },
 "nbformat": 4,
 "nbformat_minor": 2
}
