{
 "cells": [
  {
   "cell_type": "markdown",
   "metadata": {},
   "source": [
    "# M02 Lab - Case Study: if...else and while\n",
    "Author: Wyatt H. Pearce \\\n",
    "Date Started: 1/26/2024"
   ]
  },
  {
   "cell_type": "markdown",
   "metadata": {},
   "source": [
    "**Instructions:**\n",
    "- Write a Python app that will accept student names and GPAs, then tests if the student qualifies for either the Dean's List or the Honor Roll. Your app will:\n",
    "    - Ask for and accept a student's last name.\n",
    "    - Quit processing student records if the last name entered is 'ZZZ'.\n",
    "    - Ask for and accept a student's first name.\n",
    "    - Ask for and accept the student's GPA as a float.\n",
    "    - Test if the student's GPA is 3.5 or greater and, if so, print a message saying that the student has made the Dean's List.\n",
    "    - Test if the student's GPA is 3.25 or greater and, if so, print a message saying that the student has made the Honor Roll.\n",
    "- Test your app using at least five students.\n",
    "- Your header comments need to contain\n",
    "    - Your name\n",
    "    - The file name for your app\n",
    "    - A brief description of what your app will do"
   ]
  },
  {
   "cell_type": "code",
   "execution_count": 8,
   "metadata": {},
   "outputs": [
    {
     "name": "stdout",
     "output_type": "stream",
     "text": [
      "First name: Timothy, Last name: Wright, GPA: 4.0\n",
      "The student has met the qualifications for Honor Roll\n",
      "The student has met the qualifications for the Dean's List\n",
      "First name: Wyatt, Last name: Pearce, GPA: 3.903\n",
      "The student has met the qualifications for Honor Roll\n",
      "The student has met the qualifications for the Dean's List\n",
      "First name: Breaden, Last name: Herma, GPA: 3.82\n",
      "The student has met the qualifications for Honor Roll\n",
      "The student has met the qualifications for the Dean's List\n",
      "First name: Charles, Last name: Phillips, GPA: 3.1\n",
      "First name: Seth, Last name: Calzone, GPA: 4.5\n",
      "The student has met the qualifications for Honor Roll\n",
      "The student has met the qualifications for the Dean's List\n"
     ]
    }
   ],
   "source": [
    "\"\"\"\n",
    "    Author: Wyatt H. Pearce\n",
    "    Date: 1/25/2024\n",
    "    File: M02_lab_1.ipynb\n",
    "    Description:\n",
    "    This program takes user input of a students name and GPA.\n",
    "    After each input, the program outputs weather or not that student qualifies for Dean's list or Honor Roll.\n",
    "\"\"\"\n",
    "\n",
    "# These variables change with each loop\n",
    "last_name: str = \"\"\n",
    "first_name: str = \"\"\n",
    "gpa: float = 0\n",
    "running_program: bool = True\n",
    "\n",
    "# Master loop\n",
    "while running_program:\n",
    "\n",
    "    # Input validation for last_name\n",
    "    while True:\n",
    "        last_name = input(\"Input last name ('ZZZ' to exit): \")\n",
    "        \n",
    "        if last_name.upper() == \"ZZZ\":\n",
    "            running_program = False\n",
    "            break\n",
    "        elif last_name == \"\":\n",
    "            print(\"Name cannot be empty.\")\n",
    "        elif last_name.isalpha() == False:\n",
    "            print(\"Name must contain only alphabetic characters.\")\n",
    "        else:\n",
    "            # Input is good, so continue on in the master loop\n",
    "            break\n",
    "\n",
    "    # Wont continue if input was ZZZ\n",
    "    if not running_program:\n",
    "        break # Break out of master loop\n",
    "\n",
    "    # Input validation for first_name\n",
    "    while True:\n",
    "        first_name = input(\"Input first name: \")\n",
    "        \n",
    "        if first_name == \"\":\n",
    "            print(\"Name cannot be empty.\")\n",
    "        elif first_name.isalpha() == False:\n",
    "            print(\"Name must contain only alphabetic characters.\")\n",
    "        else:\n",
    "            # Input is good, so continue on in the master loop\n",
    "            break\n",
    "\n",
    "    # Input validation for gpz\n",
    "    while True:\n",
    "        gpa = input(\"Input student GPA: \")\n",
    "        \n",
    "        if gpa == \"\":\n",
    "            print(\"GPA cannot be empty.\")\n",
    "        else:\n",
    "            try:\n",
    "                gpa = float(gpa)\n",
    "                if isinstance(gpa, float):\n",
    "                    # Input is good, so continue on in the master loop\n",
    "                    break\n",
    "                else:\n",
    "                    print(\"GPA must be a decimal (i.e, 3.25 or 3.6).\")\n",
    "            except ValueError:\n",
    "                print(\"Please enter a valid float.\")\n",
    "    \n",
    "    # Student results\n",
    "    print(f\"First name: {first_name}, Last name: {last_name}, GPA: {gpa}\")\n",
    "    if gpa >= 3.25:\n",
    "        print(\"The student has met the qualifications for Honor Roll\")\n",
    "    if gpa >= 3.5:\n",
    "        print(\"The student has met the qualifications for the Dean's List\")"
   ]
  }
 ],
 "metadata": {
  "kernelspec": {
   "display_name": "Python 3",
   "language": "python",
   "name": "python3"
  },
  "language_info": {
   "codemirror_mode": {
    "name": "ipython",
    "version": 3
   },
   "file_extension": ".py",
   "mimetype": "text/x-python",
   "name": "python",
   "nbconvert_exporter": "python",
   "pygments_lexer": "ipython3",
   "version": "3.11.4"
  }
 },
 "nbformat": 4,
 "nbformat_minor": 2
}
