{
 "cells": [
  {
   "cell_type": "markdown",
   "metadata": {},
   "source": [
    "# M06 Programming Assignment - Concurrency in Python\n",
    "Author: Wyatt H. Pearce \\\n",
    "Date Started: 2/19/2024"
   ]
  },
  {
   "cell_type": "markdown",
   "metadata": {},
   "source": [
    "Section 13.1: \\\n",
    "**Instructions:** Write the current date as a string to the text file ```today.txt```."
   ]
  },
  {
   "cell_type": "code",
   "execution_count": 6,
   "metadata": {},
   "outputs": [
    {
     "name": "stdout",
     "output_type": "stream",
     "text": [
      "today.txt created in current directory\n"
     ]
    }
   ],
   "source": [
    "\"\"\"\n",
    "    Author:  Wyatt H. Pearce\n",
    "    Date: 2/19/2024\n",
    "    Section: 13.1\n",
    "    Description:\n",
    "    This program writes the current date to the file \"today.txt\"\n",
    "\"\"\"\n",
    "# Import datetime\n",
    "from datetime import datetime \n",
    "\n",
    "# Get the current date as a string\n",
    "current_date: str = datetime.now().isoformat()\n",
    "\n",
    "# Open the file in write mode\n",
    "with open(\"today.txt\", 'w') as file:\n",
    "    # Write the string to the file\n",
    "    file.write(current_date)\n",
    "    print(\"today.txt created in current directory\")"
   ]
  },
  {
   "cell_type": "markdown",
   "metadata": {},
   "source": [
    "Section 13.2: \\\n",
    "**Instructions:** Read the text file ```today.txt``` into the string ```today_string: str```"
   ]
  },
  {
   "cell_type": "code",
   "execution_count": 7,
   "metadata": {},
   "outputs": [
    {
     "name": "stdout",
     "output_type": "stream",
     "text": [
      "2024-02-19T18:30:10.819625\n"
     ]
    }
   ],
   "source": [
    "\"\"\"\n",
    "    Author:  Wyatt H. Pearce\n",
    "    Date: 2/19/2024\n",
    "    Section: 13.2\n",
    "    Description:\n",
    "    Reads a string from the file \"today.txt\" into a variable\n",
    "\"\"\"\n",
    "\n",
    "# Open the file in read mode\n",
    "with open(\"today.txt\", 'r') as file:\n",
    "    # Read the content of the file into a string\n",
    "    today_string: str = file.read()\n",
    "    print(today_string)"
   ]
  },
  {
   "cell_type": "markdown",
   "metadata": {},
   "source": [
    "Section 13.3: \\\n",
    "**Instructions:** Parse the date from ```today_string: str```"
   ]
  },
  {
   "cell_type": "code",
   "execution_count": 10,
   "metadata": {},
   "outputs": [
    {
     "name": "stdout",
     "output_type": "stream",
     "text": [
      "Parsed date: 2024-02-19 18:30:10.819625\n"
     ]
    }
   ],
   "source": [
    "\"\"\"\n",
    "    Author:  Wyatt H. Pearce\n",
    "    Date: 2/19/2024\n",
    "    Section: 13.3\n",
    "    Description:\n",
    "    This program parses the data from a date string\n",
    "\"\"\"\n",
    "from datetime import datetime\n",
    "\n",
    "# Get the date string from file\n",
    "with open(\"today.txt\", 'r') as file:\n",
    "    today_string: str = file.read()\n",
    "\n",
    "# Parse the string into a datetime variable\n",
    "today_date = datetime.strptime(today_string, '%Y-%m-%dT%H:%M:%S.%f')\n",
    "print(\"Parsed date:\", today_date)"
   ]
  },
  {
   "cell_type": "markdown",
   "metadata": {},
   "source": [
    "Section 15.1: \\\n",
    "**Instructions:** Use multiprocessing to create three separate processes. Make each one wait a random number of seconds between zero and one, print the current time, and then exit."
   ]
  },
  {
   "cell_type": "code",
   "execution_count": null,
   "metadata": {},
   "outputs": [],
   "source": [
    "\"\"\"\n",
    "    Author:  Wyatt H. Pearce\n",
    "    Date: 2/19/2024\n",
    "    Section: 15.1\n",
    "    Description:\n",
    "    This program creates separate processes, each waiting random amounts of time, then printing the current time.\n",
    "\"\"\"\n",
    "\n",
    "# Import what I need based on instructions\n",
    "import multiprocessing\n",
    "from random import randint\n",
    "from time import sleep\n",
    "from datetime import datetime\n",
    "\n",
    "# Process functions\n",
    "def print_current_time(process_name) -> None:\n",
    "    sleep_time: int = randint(1, 4)  # Random sleep time between 1 and 4 seconds\n",
    "    sleep(sleep_time)\n",
    "    # use datetime.datetime.now().isoformat() to print current time\n",
    "    current_time = datetime.now().isoformat()\n",
    "    print(f\"Process {process_name}: Current Time - {current_time}\")\n",
    "\n",
    "\n",
    "if __name__ == '__main__':\n",
    "    # processes\n",
    "    process1: multiprocessing.Process = multiprocessing.Process(target=print_current_time, args=(\"1\",))\n",
    "    process2: multiprocessing.Process = multiprocessing.Process(target=print_current_time, args=(\"2\",))\n",
    "    process3: multiprocessing.Process = multiprocessing.Process(target=print_current_time, args=(\"3\",))\n",
    "\n",
    "    # start processes\n",
    "    process1.start()\n",
    "    process2.start()\n",
    "    process3.start()\n",
    "\n",
    "    print(\"All processes have finished\")\n",
    "# exit"
   ]
  },
  {
   "attachments": {
    "image.png": {
     "image/png": "[encoded data removed]"
    }
   },
   "cell_type": "markdown",
   "metadata": {},
   "source": [
    "NOTE: MULTIPROCESSING DOES NOT WORK WELL IN JUPYTER NOTEBOOK CELLS, SO SECTION 15.1 HAS BEEN COMPLETED IN AN EXTERNAL FILE. \\\n",
    "Here were the results of running the above code: \\\n",
    "![image.png](attachment:image.png)"
   ]
  }
 ],
 "metadata": {
  "kernelspec": {
   "display_name": "Python 3",
   "language": "python",
   "name": "python3"
  },
  "language_info": {
   "codemirror_mode": {
    "name": "ipython",
    "version": 3
   },
   "file_extension": ".py",
   "mimetype": "text/x-python",
   "name": "python",
   "nbconvert_exporter": "python",
   "pygments_lexer": "ipython3",
   "version": "3.11.4"
  }
 },
 "nbformat": 4,
 "nbformat_minor": 2
}
