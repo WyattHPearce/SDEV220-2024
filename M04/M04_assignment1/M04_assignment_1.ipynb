{
 "cells": [
  {
   "cell_type": "markdown",
   "metadata": {},
   "source": [
    "# M04 Programming Assignment - Modules and Databases\n",
    "Author: Wyatt H. Pearce \\\n",
    "Date Started: 2/6/2024"
   ]
  },
  {
   "cell_type": "markdown",
   "metadata": {},
   "source": [
    "Section 11.1: \\\n",
    "**Instructions:** Create a file called ```zoo.py```. In it, define a function called ```hours()``` that prints the string 'Open 9-5 daily'. Then, use the interactive interpreter to import the ```zoo``` module and call its ```hours()``` function."
   ]
  },
  {
   "cell_type": "code",
   "execution_count": 2,
   "metadata": {},
   "outputs": [
    {
     "name": "stdout",
     "output_type": "stream",
     "text": [
      "Open 9-5 daily\n"
     ]
    }
   ],
   "source": [
    "\"\"\"\n",
    "    Author:  Wyatt H. Pearce\n",
    "    Date:\n",
    "    Section: 11.1\n",
    "    Description:\n",
    "    This programs is a demonstration of how to import functionality from external modules.\n",
    "\"\"\"\n",
    "# Import the hours() function from zoo.py into this scope\n",
    "from zoo import hours\n",
    "\n",
    "# Call the imported function\n",
    "hours()"
   ]
  },
  {
   "cell_type": "markdown",
   "metadata": {},
   "source": [
    "Section 11.2: \\\n",
    "**Instructions:**"
   ]
  },
  {
   "cell_type": "code",
   "execution_count": 4,
   "metadata": {},
   "outputs": [
    {
     "name": "stdout",
     "output_type": "stream",
     "text": [
      "Open 9-5 daily\n"
     ]
    }
   ],
   "source": [
    "\"\"\"\n",
    "    Author:  Wyatt H. Pearce\n",
    "    Date:\n",
    "    Section: 11.2\n",
    "    Description:\n",
    "    This programs is a demonstration of how to \"import as\" from an external module .\n",
    "\"\"\"\n",
    "# Import the hours() function from zoo.py as 'h'\n",
    "from zoo import hours as h\n",
    "\n",
    "# Call hours() using new name 'h'\n",
    "h()\n"
   ]
  },
  {
   "cell_type": "markdown",
   "metadata": {},
   "source": [
    "Section 16.8: \\\n",
    "**NOTE:** \\\n",
    "This section of the assignment was completed in another file called \"app.py\" at the directory: SDEV220-2024/M04/M04_assignment1/app.py \\\n",
    " To run the program, navigate to the directory and run the command \"flask run\""
   ]
  }
 ],
 "metadata": {
  "kernelspec": {
   "display_name": "Python 3",
   "language": "python",
   "name": "python3"
  },
  "language_info": {
   "codemirror_mode": {
    "name": "ipython",
    "version": 3
   },
   "file_extension": ".py",
   "mimetype": "text/x-python",
   "name": "python",
   "nbconvert_exporter": "python",
   "pygments_lexer": "ipython3",
   "version": "3.11.4"
  }
 },
 "nbformat": 4,
 "nbformat_minor": 2
}
